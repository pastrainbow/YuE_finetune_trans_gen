{
 "cells": [
  {
   "cell_type": "markdown",
   "id": "6b334f66-ec5d-49c5-9d2e-05ed45ef8384",
   "metadata": {},
   "source": [
    "# Imports"
   ]
  },
  {
   "cell_type": "code",
   "execution_count": 1,
   "id": "b0a890c3-53c2-4875-9be8-39b17dd030ff",
   "metadata": {},
   "outputs": [],
   "source": [
    "import numpy as np\n",
    "import soundfile as sf"
   ]
  },
  {
   "cell_type": "markdown",
   "id": "e5006f78-8b17-4333-b4bc-bf48bdc8d9a5",
   "metadata": {},
   "source": [
    "# Load audio file"
   ]
  },
  {
   "cell_type": "code",
   "execution_count": 2,
   "id": "b85cd259-5a11-46d3-a79c-926cf607eb0f",
   "metadata": {},
   "outputs": [],
   "source": [
    "#read input files as np array, assuming audio is stereo\n",
    "file_name = \"16bit_44.1khz_wav.wav\"\n",
    "#each sample value is from -1 to 1\n",
    "audio_data, sample_rate = sf.read(file_name)\n",
    "frame_count = len(audio_data)\n",
    "#if training examples are of the same length, we can just calculate this once for the first training example\n",
    "#split to 3 segments: start, middle and end\n",
    "segment_frame_count = int(frame_count / 3)\n",
    "audio_data_middle = audio_data[segment_frame_count : segment_frame_count * 2]"
   ]
  },
  {
   "cell_type": "markdown",
   "id": "a18fe689-d0ec-4f67-b8af-2cf6314e6e41",
   "metadata": {},
   "source": [
    "# Noise types"
   ]
  },
  {
   "cell_type": "code",
   "execution_count": 3,
   "id": "5509721b-ce2d-468f-8b97-b978bc71d77d",
   "metadata": {},
   "outputs": [],
   "source": [
    "from enum import Enum\n",
    "class Noise(Enum):\n",
    "    GAUSSIAN = 1\n",
    "    WHITE = 2\n",
    "#change the noise type here\n",
    "noise_type = Noise.GAUSSIAN"
   ]
  },
  {
   "cell_type": "markdown",
   "id": "8779d5f5-68f1-4612-94a3-f2266fbb0be8",
   "metadata": {},
   "source": [
    "# Gaussian noise"
   ]
  },
  {
   "cell_type": "markdown",
   "id": "78e7e4f3-2908-4f9d-9577-ff19f0ac9205",
   "metadata": {},
   "source": [
    "Used in the forward process of Denoising Diffusion Probabilistic Model. Good simulation of noises in nature, easy to implement with Numpy.\n",
    "Gaussian distribution is also closed under linear operations, potentially allowing the models to learn the pattern more easily."
   ]
  },
  {
   "cell_type": "code",
   "execution_count": 4,
   "id": "6df3a992-4431-4c28-9381-52417ea43ef8",
   "metadata": {},
   "outputs": [],
   "source": [
    "#Hyperparameters: noise dynamic range, range factor that controls how much of the signal is in the range\n",
    "def noise_gen_gaussian_stereo(range_factor, frame_count):\n",
    "    mean = 0.0\n",
    "    #portion of values in range = 1 - 1 / range_factor^2\n",
    "    #value range is 1 here\n",
    "    std = 1.0 / range_factor\n",
    "    \n",
    "    # Gaussian noise: create a random normal distribution that has the same size as the data to add noise to \n",
    "    # Genearte noise with same size as that of the data.\n",
    "    return np.random.normal(mean, std, (frame_count, 2)) #2 for stereo\n",
    "    "
   ]
  },
  {
   "cell_type": "markdown",
   "id": "88c292f0-5b2f-4fd3-ab0f-224f7c1b49c2",
   "metadata": {},
   "source": [
    "# Uniform/white noise"
   ]
  },
  {
   "cell_type": "code",
   "execution_count": 5,
   "id": "4551001c-a6ee-40c7-9a84-06776c857dc6",
   "metadata": {},
   "outputs": [],
   "source": [
    "def noise_gen_white_stereo(frame_count):\n",
    "    return np.random.uniform(-1.0, 1.0, frame_count)\n",
    "    "
   ]
  },
  {
   "cell_type": "markdown",
   "id": "cf516a0b-fa3e-48e5-8d46-0df514b3f96c",
   "metadata": {},
   "source": [
    "# Apply noise"
   ]
  },
  {
   "cell_type": "code",
   "execution_count": 6,
   "id": "adb7b0ab-7377-4165-b7a3-82bc66381b9f",
   "metadata": {},
   "outputs": [],
   "source": [
    "def noise_gen_stereo(noise_type, frame_count):\n",
    "    noise_data = None\n",
    "    match noise_type:\n",
    "        case Noise.GAUSSIAN:\n",
    "            noise_data = noise_gen_gaussian_stereo(4, frame_count)\n",
    "        case Noise.WHITE:\n",
    "            noise_data = noise_gen_white_stereo(audio_data)\n",
    "    return noise_data\n",
    "\n",
    "#signal weight controls how much of the audio signal we want to keep\n",
    "def add_noise_stereo(audio_data, noise_data, signal_weight):\n",
    "    audio_data *= signal_weight\n",
    "    audio_data += noise_data * (1.0 - signal_weight)"
   ]
  },
  {
   "cell_type": "code",
   "execution_count": 7,
   "id": "ce789bda-5a86-464b-96b1-8b53d6e48169",
   "metadata": {},
   "outputs": [],
   "source": [
    "#Add the noise to the data\n",
    "#To save computation cost, we can also generate the noise only once, and then use slices of the same noise throughout training to accomodate\n",
    "#for different durations\n",
    "noise_data = noise_gen_stereo(Noise.GAUSSIAN, segment_frame_count)\n",
    "add_noise_stereo(audio_data_middle, noise_data, 0.1)"
   ]
  },
  {
   "cell_type": "markdown",
   "id": "c20f25ca-16d3-42a9-8232-80a0acd5ed47",
   "metadata": {},
   "source": [
    "For dealing with out of range sample values, we can either clip or normalise. \n",
    "Clipping does not modify start and end segments but can reduce quality.\n",
    "Normalising maintains the dynamic range and quality, but start and end clips needs to be modified, .meaning that we need to normalise ground truth audio as well\n",
    "Normalisation is not good with gaussian noise, since sample values are unbounded and thus can take extremely large values"
   ]
  },
  {
   "cell_type": "markdown",
   "id": "86957725-bdf0-45e8-856c-34b251d39429",
   "metadata": {},
   "source": [
    "# Clipping"
   ]
  },
  {
   "cell_type": "code",
   "execution_count": 8,
   "id": "413a0570-8527-4363-b8a6-30cb9339bbd2",
   "metadata": {},
   "outputs": [
    {
     "data": {
      "text/plain": [
       "array([[-0.32198336,  0.21809357],\n",
       "       [-0.43807309,  0.31533201],\n",
       "       [-0.20151071,  0.03451344],\n",
       "       ...,\n",
       "       [ 0.11286686,  0.11626384],\n",
       "       [ 0.35096369, -0.32730788],\n",
       "       [-0.13045764, -0.04648305]])"
      ]
     },
     "execution_count": 8,
     "metadata": {},
     "output_type": "execute_result"
    }
   ],
   "source": [
    "#clip above and below\n",
    "np.clip(audio_data_middle, -1.0, 1.0, out = audio_data_middle)"
   ]
  },
  {
   "cell_type": "markdown",
   "id": "beab8bd2-d354-4f86-a0b8-90141565751c",
   "metadata": {
    "jp-MarkdownHeadingCollapsed": true
   },
   "source": [
    "# Normalise function"
   ]
  },
  {
   "cell_type": "markdown",
   "id": "ad085525-7f97-4540-a7d2-32a9f2bc8383",
   "metadata": {},
   "source": [
    "## For avoiding out of range sample values "
   ]
  },
  {
   "cell_type": "code",
   "execution_count": 7,
   "id": "f03adb82-99b2-43a8-b5ce-934b8817b400",
   "metadata": {},
   "outputs": [],
   "source": [
    "def get_norm_factor(channel_data):\n",
    "    return 1.0 / max(channel_data.max(), -channel_data.min())"
   ]
  },
  {
   "cell_type": "code",
   "execution_count": 8,
   "id": "555a2cd7-87d9-459b-a08c-118da9088405",
   "metadata": {},
   "outputs": [],
   "source": [
    "def normalise_channel(channel_data):\n",
    "    norm_factor = get_norm_factor(channel_data)\n",
    "    channel_data *= norm_factor"
   ]
  },
  {
   "cell_type": "code",
   "execution_count": 9,
   "id": "44efb9e0-1dc7-42f4-aef7-9a8f31dfa4af",
   "metadata": {},
   "outputs": [],
   "source": [
    "def normalise_stereo(audio_data):\n",
    "    left = audio_data[:, 0]\n",
    "    right = audio_data[:, 1]\n",
    "    normalise_channel(left)\n",
    "    normalise_channel(right)\n",
    "    return np.column_stack((left, right))\n",
    "    "
   ]
  },
  {
   "cell_type": "code",
   "execution_count": 9,
   "id": "e2315bc0-3770-4915-b1c1-5feaada9a06b",
   "metadata": {},
   "outputs": [
    {
     "data": {
      "text/plain": [
       "array([[ 0.18471611,  0.06358493],\n",
       "       [-0.1641051 , -0.0009302 ],\n",
       "       [ 0.41270938, -0.28592255],\n",
       "       ...,\n",
       "       [-0.34847356, -0.36879692],\n",
       "       [ 0.1864471 , -0.0457229 ],\n",
       "       [-0.32659071,  0.26914667]])"
      ]
     },
     "execution_count": 9,
     "metadata": {},
     "output_type": "execute_result"
    }
   ],
   "source": [
    "#Normalise signal\n",
    "normalise_stereo(audio_data_noised)"
   ]
  },
  {
   "cell_type": "code",
   "execution_count": 10,
   "id": "81774ea6-c425-4358-b5fd-49ac642b1f0a",
   "metadata": {},
   "outputs": [
    {
     "data": {
      "text/plain": [
       "1.0"
      ]
     },
     "execution_count": 10,
     "metadata": {},
     "output_type": "execute_result"
    }
   ],
   "source": [
    "audio_data_noised.max()"
   ]
  },
  {
   "cell_type": "markdown",
   "id": "f8f54f66-8b99-4cf5-9fef-1d51628216da",
   "metadata": {},
   "source": [
    "# Plot"
   ]
  },
  {
   "cell_type": "code",
   "execution_count": 9,
   "id": "bb358898-bda9-46ef-8fb6-a87f81cf8e80",
   "metadata": {
    "scrolled": true
   },
   "outputs": [
    {
     "data": {
      "text/plain": [
       "[<matplotlib.lines.Line2D at 0x2a8c4d0e4e0>]"
      ]
     },
     "execution_count": 9,
     "metadata": {},
     "output_type": "execute_result"
    },
    {
     "data": {
      "image/png": "[encoded data removed]",
      "text/plain": [
       "<Figure size 640x480 with 1 Axes>"
      ]
     },
     "metadata": {},
     "output_type": "display_data"
    }
   ],
   "source": [
    "#plot signals\n",
    "import matplotlib.pyplot as plt\n",
    "#time axis\n",
    "audio_plot = audio_data\n",
    "audio_duration = len(audio_plot) / sample_rate\n",
    "time = np.arange(0, audio_duration, 1/sample_rate)\n",
    "left_plot = audio_plot[:, 0]\n",
    "plt.plot(time, left_plot)"
   ]
  },
  {
   "cell_type": "markdown",
   "id": "988b7065-057e-4641-bfbd-e7f0f3fa0e87",
   "metadata": {},
   "source": [
    "# Produce and save noised audio file"
   ]
  },
  {
   "cell_type": "code",
   "execution_count": 10,
   "id": "80d932ba-84a5-4860-873b-bde8a2837dd2",
   "metadata": {},
   "outputs": [],
   "source": [
    "sf.write((file_name + \" (noised).wav\"), audio_data, sample_rate)"
   ]
  },
  {
   "cell_type": "markdown",
   "id": "9d4b3378-dd61-4846-b2b1-1d0b832e5909",
   "metadata": {},
   "source": [
    "# Playback"
   ]
  },
  {
   "cell_type": "code",
   "execution_count": 11,
   "id": "e1f74fec-e31a-4c2c-bf37-4559cb3bfdef",
   "metadata": {},
   "outputs": [],
   "source": [
    "import sounddevice as sd"
   ]
  },
  {
   "cell_type": "code",
   "execution_count": null,
   "id": "f07e6ce6-7f0b-4cda-a043-a351a6b2d796",
   "metadata": {},
   "outputs": [],
   "source": [
    "sd.play(audio_data, sample_rate)\n",
    "sd.wait()"
   ]
  },
  {
   "cell_type": "markdown",
   "id": "4d3507f1-1600-4707-bfef-2361d17e3e59",
   "metadata": {},
   "source": [
    "# Move files to top level to accomodate for fma large dataset file structure"
   ]
  },
  {
   "cell_type": "code",
   "execution_count": 1,
   "id": "cc002712-4e0b-46f7-becd-7870d8492f2e",
   "metadata": {},
   "outputs": [
    {
     "name": "stdout",
     "output_type": "stream",
     "text": [
      "Audio files moved successfully.\n"
     ]
    }
   ],
   "source": [
    "import os\n",
    "import shutil\n",
    "main_dir = \"/vol/bitbucket/al4624/finetune_dataset/fma_large\"\n",
    "# Walk through all subdirectories, move all audio files in them to the top level\n",
    "for root, dirs, files in os.walk(main_dir):\n",
    "    for file in files:\n",
    "        if file.lower().endswith(\".mp3\"):\n",
    "            src_path = os.path.join(root, file)\n",
    "            dest_path = os.path.join(main_dir, file)\n",
    "            shutil.move(src_path, dest_path)\n",
    "#delete the empty subdirectories\n",
    "for root, dirs, files in os.walk(main_dir, topdown=False):\n",
    "   for dir in dirs:\n",
    "        dir_path = os.path.join(root, dir)\n",
    "        try:\n",
    "            shutil.rmtree(dir_path)\n",
    "        except Exception as e:\n",
    "            print(f\"Failed to remove {dir_path} with error: {e}\")\n",
    "        \n",
    "\n",
    "print(\"Audio files moved successfully.\")"
   ]
  },
  {
   "cell_type": "markdown",
   "id": "35377b65-a162-4d38-9508-134677483444",
   "metadata": {},
   "source": [
    "# Whole script, processes a list of tracks"
   ]
  },
  {
   "cell_type": "code",
   "execution_count": 9,
   "id": "3c28f84a-55b5-4d84-b065-d73238e400ce",
   "metadata": {},
   "outputs": [
    {
     "name": "stdout",
     "output_type": "stream",
     "text": [
      "File finetune_dataset\\example_music\\29 - She's Out of My Life.flac finished noising. Middle segement starts at 65.23172335600907, ends at 130.46344671201814 \n",
      "File finetune_dataset\\example_music\\26 - This Place Hotel.flac finished noising. Middle segement starts at 98.01619047619047, ends at 196.03238095238095 \n",
      "File finetune_dataset\\example_music\\25 - Wanna Be Startin' Somethin'.flac finished noising. Middle segement starts at 106.90192743764172, ends at 213.80385487528343 \n",
      "File finetune_dataset\\example_music\\27 - Another Part of Me.flac finished noising. Middle segement starts at 80.83727891156462, ends at 161.67455782312925 \n",
      "File finetune_dataset\\example_music\\28 - I Just Can't Stop Loving You.flac finished noising. Middle segement starts at 87.868820861678, ends at 175.737641723356 \n",
      "File finetune_dataset\\example_music\\12 - Don't Be Messin' 'Round.flac finished noising. Middle segement starts at 86.49616666666667, ends at 172.99233333333333 \n",
      "File finetune_dataset\\example_music\\19 - Fly Away.flac finished noising. Middle segement starts at 69.02842708333333, ends at 138.05685416666665 \n",
      "File finetune_dataset\\example_music\\13 - I'm So Blue.flac finished noising. Middle segement starts at 82.56402083333333, ends at 165.12804166666666 \n",
      "File finetune_dataset\\example_music\\23 - Speed Demon (Remix by Nero).flac finished noising. Middle segement starts at 83.34579166666667, ends at 166.69158333333334 \n",
      "File finetune_dataset\\example_music\\14 - Song Groove (a.k.a. Abortion Papers).flac finished noising. Middle segement starts at 88.92269791666666, ends at 177.84539583333333 \n",
      "File finetune_dataset\\example_music\\06 - Another Part of Me.flac finished noising. Middle segement starts at 78.23822916666667, ends at 156.47645833333334 \n",
      "File finetune_dataset\\example_music\\17 - Al Capone.flac finished noising. Middle segement starts at 71.59727083333334, ends at 143.19454166666668 \n",
      "File finetune_dataset\\example_music\\21 - Je Ne Veux Pas La Fin De Nous (I Just Can't Stop Loving You).flac finished noising. Middle segement starts at 82.64394791666666, ends at 165.28789583333332 \n",
      "File finetune_dataset\\example_music\\05 - Just Good Friends.flac finished noising. Middle segement starts at 82.44477083333334, ends at 164.88954166666667 \n",
      "File finetune_dataset\\example_music\\04 - Liberian Girl.flac finished noising. Middle segement starts at 77.60054166666667, ends at 155.20108333333334 \n",
      "File finetune_dataset\\example_music\\03 - Speed Demon.flac finished noising. Middle segement starts at 80.67404166666667, ends at 161.34808333333334 \n",
      "File finetune_dataset\\example_music\\10 - Smooth Criminal.flac finished noising. Middle segement starts at 85.92215625, ends at 171.8443125 \n",
      "File finetune_dataset\\example_music\\20 - Todo Mi Amor Eres Tu (I Just Can't Stop Loving You).flac finished noising. Middle segement starts at 83.58936458333334, ends at 167.17872916666667 \n",
      "File finetune_dataset\\example_music\\01 - Bad.flac finished noising. Middle segement starts at 82.45632291666666, ends at 164.91264583333333 \n",
      "File finetune_dataset\\example_music\\09 - Dirty Diana.flac finished noising. Middle segement starts at 93.58434375, ends at 187.1686875 \n",
      "File finetune_dataset\\example_music\\15 - Free.flac finished noising. Middle segement starts at 88.35646875, ends at 176.7129375 \n",
      "File finetune_dataset\\example_music\\22 - Bad (Remix by Afrojack Featuring Pitbull-DJ Buddha Edit).flac finished noising. Middle segement starts at 88.84402083333333, ends at 177.68804166666666 \n",
      "File finetune_dataset\\example_music\\11 - Leave Me Alone.flac finished noising. Middle segement starts at 93.45286458333334, ends at 186.90572916666667 \n",
      "File finetune_dataset\\example_music\\07 - Man in the Mirror.flac finished noising. Middle segement starts at 106.22922916666667, ends at 212.45845833333334 \n",
      "File finetune_dataset\\example_music\\16 - Price of Fame.flac finished noising. Middle segement starts at 91.16757291666667, ends at 182.33514583333334 \n",
      "File finetune_dataset\\example_music\\31 - Rock with You.flac finished noising. Middle segement starts at 81.52612244897959, ends at 163.05224489795918 \n",
      "File finetune_dataset\\example_music\\30 - I Want You Back - The Love You Save - I'll Be There.flac finished noising. Middle segement starts at 102.14006802721089, ends at 204.28013605442177 \n",
      "File finetune_dataset\\example_music\\02 - The Way You Make Me Feel.flac finished noising. Middle segement starts at 99.37398958333333, ends at 198.74797916666665 \n",
      "File finetune_dataset\\example_music\\32 - Human Nature.flac finished noising. Middle segement starts at 89.59160997732427, ends at 179.18321995464854 \n",
      "File finetune_dataset\\example_music\\33 - Smooth Criminal.flac finished noising. Middle segement starts at 93.87437641723356, ends at 187.74875283446713 \n",
      "File finetune_dataset\\example_music\\18 - Streetwalker.flac finished noising. Middle segement starts at 117.9059375, ends at 235.811875 \n",
      "File finetune_dataset\\example_music\\34 - Dirty Diana.flac finished noising. Middle segement starts at 100.4640589569161, ends at 200.9281179138322 \n",
      "File finetune_dataset\\example_music\\35 - Thriller.flac finished noising. Middle segement starts at 89.31814058956915, ends at 178.6362811791383 \n",
      "File finetune_dataset\\example_music\\37 - Beat It.flac finished noising. Middle segement starts at 114.93077097505669, ends at 229.86154195011338 \n",
      "File finetune_dataset\\example_music\\36 - Working Day and Night.flac finished noising. Middle segement starts at 118.10555555555555, ends at 236.2111111111111 \n",
      "File finetune_dataset\\example_music\\39 - Bad.flac finished noising. Middle segement starts at 89.44253968253969, ends at 178.88507936507938 \n",
      "File finetune_dataset\\example_music\\38 - Billie Jean.flac finished noising. Middle segement starts at 112.97326530612244, ends at 225.94653061224489 \n",
      "File finetune_dataset\\example_music\\40 - Man in the Mirror.flac finished noising. Middle segement starts at 127.4734693877551, ends at 254.9469387755102 \n",
      "File finetune_dataset\\example_music\\24 - Bad (Remix By AfroJack-Club Mix).flac finished noising. Middle segement starts at 150.62521875, ends at 301.2504375 \n",
      "Processing took 9.12 seconds.\n"
     ]
    }
   ],
   "source": [
    "import numpy as np\n",
    "import time\n",
    "import soundfile as sf\n",
    "import os\n",
    "from concurrent.futures import ThreadPoolExecutor\n",
    "from functools import partial\n",
    "from pathlib import Path\n",
    "import shutil\n",
    "\n",
    "\n",
    "def get_all_mp3_file_paths(dir_path):\n",
    "    return [str(file) for file in Path(dir_path).rglob('*.flac') if file.is_file()] #NEED CHANGE TO MP3\n",
    "#pre: both directories exist\n",
    "dataset_folder_path = \"finetune_dataset/example_music\"\n",
    "noised_dataset_folder_path = \"finetune_dataset/example_music_noised\"\n",
    "\n",
    "#read input files as np array, assuming audio is stereo\n",
    "file_names = get_all_mp3_file_paths(dataset_folder_path)\n",
    "\n",
    "signal_weight = 0.1\n",
    "\n",
    "def stereo_to_mono(stereo_data):\n",
    "    return stereo_data.mean(axis=1)\n",
    "    \n",
    "def noise_gen_gaussian(range_factor, frame_count):\n",
    "    mean = 0.0\n",
    "    #portion of values in range = 1 - 1 / range_factor^2\n",
    "    #value range is 1 here\n",
    "    std = 1.0 / range_factor\n",
    "    \n",
    "    # Gaussian noise: create a random normal distribution that has the same size as the data to add noise to \n",
    "    # Genearte noise with same size as that of the data.\n",
    "    return np.random.normal(mean, std, frame_count)\n",
    "\n",
    "#signal weight controls how much of the audio signal we want to keep\n",
    "def add_noise(audio_data, noise_data, signal_weight):\n",
    "    audio_data *= signal_weight\n",
    "    audio_data += noise_data * (1.0 - signal_weight)\n",
    "\n",
    "def noise_file(file_name, signal_weight):\n",
    "    try:\n",
    "        #each sample value is from -1 to 1\n",
    "        audio_data, sample_rate = sf.read(file_name)\n",
    "        #mono conversion - YuE only supports mono audio\n",
    "        audio_data = stereo_to_mono(audio_data)\n",
    "        frame_count = len(audio_data)\n",
    "        #if training examples are of the same length, we can just calculate this once for the first training example\n",
    "        #split to 3 segments: start, middle and end\n",
    "        segment_frame_count = int(frame_count / 3)\n",
    "        middle_segment_start = segment_frame_count\n",
    "        middle_segment_end = segment_frame_count * 2\n",
    "        audio_data_middle = audio_data[middle_segment_start : middle_segment_end]\n",
    "        \n",
    "        #Add the noise to the data\n",
    "        #To save computation cost, we can also generate the noise only once, and then use slices of the same noise throughout training to accomodate\n",
    "        #for different durations\n",
    "        #range factor of 4 covers the dynmaic range quite well without clipping too much\n",
    "        noise_data = noise_gen_gaussian(4, segment_frame_count)\n",
    "        #0.9 signal weight for now, first finetune introduces only a small amount of noise \n",
    "        add_noise(audio_data_middle, noise_data, 0.9)\n",
    "        \n",
    "        #clip above and below, avoid out of range values\n",
    "        np.clip(audio_data_middle, -1.0, 1.0, out = audio_data_middle)\n",
    "        \n",
    "        #save noised audio, same name since we store them in a different directory\n",
    "        sf.write(os.path.join(noised_dataset_folder_path, os.path.basename(file_name)), audio_data, sample_rate)\n",
    "\n",
    "        print(f\"File {file_name} finished noising. Middle segement starts at {middle_segment_start / sample_rate}, ends at {middle_segment_end / sample_rate} \")\n",
    "    #FMA dataset has corrupted files. It is normal for a few files to fail the processing.\n",
    "    except Exception as e:\n",
    "        print(f\"Error processing {file_name}: {e}. Skipping\")\n",
    "        raise\n",
    "\n",
    "def parallel_noising():\n",
    "    if __name__ == \"__main__\":\n",
    "        #ProcessPoolExecutor is probably faster, but we have file IO with soundfile, which will cause problem\n",
    "        with ThreadPoolExecutor() as executor:\n",
    "            futures = [\n",
    "                executor.map(noise_file, file_names, [signal_weight] * len(file_names))\n",
    "            ]\n",
    "\n",
    "start = time.time()\n",
    "#for file in file_names:\n",
    " #   noise_file(file, 0.9)\n",
    "parallel_noising()\n",
    "end = time.time()\n",
    "elapsed = end - start\n",
    "print(f\"Processing took {elapsed:.2f} seconds.\")\n"
   ]
  },
  {
   "cell_type": "code",
   "execution_count": null,
   "id": "94b22521-8907-4c0d-ae5f-664fe4642554",
   "metadata": {},
   "outputs": [],
   "source": []
  },
  {
   "cell_type": "code",
   "execution_count": 2,
   "id": "a209f7b7-0837-4060-adb4-2ccfcbb552fe",
   "metadata": {},
   "outputs": [
    {
     "name": "stdout",
     "output_type": "stream",
     "text": [
      "Collecting soundfile\n",
      "  Using cached soundfile-0.13.1-py2.py3-none-win_amd64.whl.metadata (16 kB)\n",
      "Collecting cffi>=1.0 (from soundfile)\n",
      "  Downloading cffi-1.17.1-cp39-cp39-win_amd64.whl.metadata (1.6 kB)\n",
      "Requirement already satisfied: numpy in c:\\users\\adam li\\.conda\\envs\\py39\\lib\\site-packages (from soundfile) (1.23.5)\n",
      "Collecting pycparser (from cffi>=1.0->soundfile)\n",
      "  Using cached pycparser-2.22-py3-none-any.whl.metadata (943 bytes)\n",
      "Using cached soundfile-0.13.1-py2.py3-none-win_amd64.whl (1.0 MB)\n",
      "Downloading cffi-1.17.1-cp39-cp39-win_amd64.whl (181 kB)\n",
      "Using cached pycparser-2.22-py3-none-any.whl (117 kB)\n",
      "Installing collected packages: pycparser, cffi, soundfile\n",
      "\n",
      "   ---------------------------------------- 0/3 [pycparser]\n",
      "   ---------------------------------------- 0/3 [pycparser]\n",
      "   ------------- -------------------------- 1/3 [cffi]\n",
      "   -------------------------- ------------- 2/3 [soundfile]\n",
      "   ---------------------------------------- 3/3 [soundfile]\n",
      "\n",
      "Successfully installed cffi-1.17.1 pycparser-2.22 soundfile-0.13.1\n",
      "Note: you may need to restart the kernel to use updated packages.\n"
     ]
    }
   ],
   "source": [
    "00pip install soundfile"
   ]
  }
 ],
 "metadata": {
  "kernelspec": {
   "display_name": "Python 3 (ipykernel)",
   "language": "python",
   "name": "python3"
  },
  "language_info": {
   "codemirror_mode": {
    "name": "ipython",
    "version": 3
   },
   "file_extension": ".py",
   "mimetype": "text/x-python",
   "name": "python",
   "nbconvert_exporter": "python",
   "pygments_lexer": "ipython3",
   "version": "3.13.5"
  }
 },
 "nbformat": 4,
 "nbformat_minor": 5
}
