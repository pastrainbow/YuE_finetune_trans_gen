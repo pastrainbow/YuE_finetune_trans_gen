{
 "cells": [
  {
   "cell_type": "code",
   "execution_count": null,
   "id": "93f862f7-3bbd-4e2a-bac8-61198c89354c",
   "metadata": {},
   "outputs": [],
   "source": [
    "import soundfile as sf\n",
    "import os\n",
    "start_path = \"\"\n",
    "end_path = \"\"\n",
    "\n",
    "audio_data, sample_rate = \n"
   ]
  }
 ],
 "metadata": {
  "kernelspec": {
   "display_name": "Python 3 (ipykernel)",
   "language": "python",
   "name": "python3"
  },
  "language_info": {
   "codemirror_mode": {
    "name": "ipython",
    "version": 3
   },
   "file_extension": ".py",
   "mimetype": "text/x-python",
   "name": "python",
   "nbconvert_exporter": "python",
   "pygments_lexer": "ipython3",
   "version": "3.13.5"
  }
 },
 "nbformat": 4,
 "nbformat_minor": 5
}
