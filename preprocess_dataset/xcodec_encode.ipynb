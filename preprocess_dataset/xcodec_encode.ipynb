{
 "cells": [
  {
   "cell_type": "code",
   "execution_count": null,
   "id": "7c57ee08-3212-426a-b860-cb19bc3edbeb",
   "metadata": {},
   "outputs": [],
   "source": [
    "import numpy as np\n",
    "import torch\n",
    "import torchaudio\n",
    "from torchaudio.transforms import Resample\n",
    "def load_audio_mono(filepath, sampling_rate=16000):\n",
    "    audio, sr = torchaudio.load(filepath)\n",
    "    # Convert to mono\n",
    "    audio = torch.mean(audio, dim=0, keepdim=True)\n",
    "    # Resample if needed\n",
    "    if sr != sampling_rate:\n",
    "        resampler = Resample(orig_freq=sr, new_freq=sampling_rate)\n",
    "        audio = resampler(audio)\n",
    "    return audio\n",
    "\n",
    "def encode_audio(codec_model, audio_prompt, device, target_bw=0.5):\n",
    "    if len(audio_prompt.shape) < 3:\n",
    "        audio_prompt.unsqueeze_(0)\n",
    "    with torch.no_grad():\n",
    "        raw_codes = codec_model.encode(audio_prompt.to(device), target_bw=target_bw)\n",
    "    raw_codes = raw_codes.transpose(0, 1)\n",
    "    raw_codes = raw_codes.cpu().numpy().astype(np.int16)\n",
    "    return raw_codes\n",
    "\n",
    "audio_path = \"\"\n",
    "audio_data = load_audio_mono(audio_path)\n",
    "raw_codes = encode_audio(codec_model, audio_prompt, device, target_bw=0.5)"
   ]
  }
 ],
 "metadata": {
  "kernelspec": {
   "display_name": "Python 3 (ipykernel)",
   "language": "python",
   "name": "python3"
  },
  "language_info": {
   "codemirror_mode": {
    "name": "ipython",
    "version": 3
   },
   "file_extension": ".py",
   "mimetype": "text/x-python",
   "name": "python",
   "nbconvert_exporter": "python",
   "pygments_lexer": "ipython3",
   "version": "3.13.5"
  }
 },
 "nbformat": 4,
 "nbformat_minor": 5
}
