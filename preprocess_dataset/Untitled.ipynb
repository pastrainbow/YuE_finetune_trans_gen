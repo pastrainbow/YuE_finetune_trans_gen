{
 "cells": [
  {
   "cell_type": "code",
   "execution_count": 12,
   "id": "8080c9f8-9adc-42ba-a197-7d11d41eaabd",
   "metadata": {},
   "outputs": [
    {
     "name": "stdout",
     "output_type": "stream",
     "text": [
      "dummy.npy\n"
     ]
    }
   ],
   "source": [
    "import numpy as np\n",
    "import os\n",
    "#codes = np.load(\"/homes/al4624/Documents/YuE_finetune/YuE_finetune_trans_gen/finetune/example/npy/dummy.mp3\")\n",
    "path = \"/homes/al4624/Documents/YuE_finetune/YuE_finetune_trans_gen/finetune/example/npy/dummy.mp3\"\n",
    "name = os.path.splitext(os.path.basename(path))[0] + \".npy\"\n",
    "print(name)\n",
    "#codes = np.load(\"/homes/al4624/Documents/YuE_finetune/test_sep_original/test.npy\")\n",
    "#codes.shape"
   ]
  }
 ],
 "metadata": {
  "kernelspec": {
   "display_name": "Python 3 (ipykernel)",
   "language": "python",
   "name": "python3"
  },
  "language_info": {
   "codemirror_mode": {
    "name": "ipython",
    "version": 3
   },
   "file_extension": ".py",
   "mimetype": "text/x-python",
   "name": "python",
   "nbconvert_exporter": "python",
   "pygments_lexer": "ipython3",
   "version": "3.13.5"
  }
 },
 "nbformat": 4,
 "nbformat_minor": 5
}
