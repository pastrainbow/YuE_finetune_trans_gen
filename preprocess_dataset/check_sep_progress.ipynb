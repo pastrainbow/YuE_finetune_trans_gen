{
 "cells": [
  {
   "cell_type": "code",
   "execution_count": 4,
   "id": "344b392e-125a-4b81-8465-2a2b0b579c66",
   "metadata": {},
   "outputs": [
    {
     "name": "stdout",
     "output_type": "stream",
     "text": [
      "/home/pastrainbow/Documents/YuE_finetune/test_music/sub_dir/test.Vocals.mp3\n",
      "/home/pastrainbow/Documents/YuE_finetune/test_music/sub_dir/test.Instrumental.mp3\n",
      "File test did not get separated.\n",
      "/home/pastrainbow/Documents/YuE_finetune/test_music/sub_dir/concat.Vocals.mp3\n",
      "/home/pastrainbow/Documents/YuE_finetune/test_music/sub_dir/concat.Instrumental.mp3\n",
      "File concat did not get separated.\n",
      "0 files got separated.\n"
     ]
    }
   ],
   "source": [
    "import os\n",
    "from pathlib import Path\n",
    "input_dir_path = \"/home/pastrainbow/Documents/YuE_finetune/test_music/sub_dir\"\n",
    "output_dir_path = \"/home/pastrainbow/Documents/YuE_finetune/test_music/sub_dir\"\n",
    "input_track_paths = [str(file) for file in Path(input_dir_path).rglob('*.mp3') if file.is_file()]\n",
    "file_count = 0\n",
    "for input_track_path in input_track_paths:\n",
    "    name = Path(input_track_path).stem\n",
    "    vocals_path = os.path.join(output_dir_path, name + \".Vocals.mp3\")\n",
    "    print(vocals_path)\n",
    "    instr_path = os.path.join(output_dir_path, name + \".Instrumental.mp3\")\n",
    "    print(instr_path)\n",
    "    if (not (os.path.exists(vocals_path) and os.path.exists(instr_path))):\n",
    "        print(f\"File {name} did not get separated.\")\n",
    "    else:\n",
    "        file_count += 1\n",
    "print(f\"{file_count} files got separated.\")\n"
   ]
  }
 ],
 "metadata": {
  "kernelspec": {
   "display_name": "Python 3 (ipykernel)",
   "language": "python",
   "name": "python3"
  },
  "language_info": {
   "codemirror_mode": {
    "name": "ipython",
    "version": 3
   },
   "file_extension": ".py",
   "mimetype": "text/x-python",
   "name": "python",
   "nbconvert_exporter": "python",
   "pygments_lexer": "ipython3",
   "version": "3.13.5"
  }
 },
 "nbformat": 4,
 "nbformat_minor": 5
}
