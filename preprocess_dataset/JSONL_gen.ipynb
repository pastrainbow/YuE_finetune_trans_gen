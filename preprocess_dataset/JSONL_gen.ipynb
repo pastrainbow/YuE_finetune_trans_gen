{
 "cells": [
  {
   "cell_type": "code",
   "execution_count": null,
   "id": "35d97954-b0f4-4e49-94e7-09b8e25bfa5d",
   "metadata": {},
   "outputs": [],
   "source": [
    "import json\n",
    "import os\n",
    "#obtain all files\n",
    "audio_dir = \"\"\n",
    "[str(file) for file in Path(dir_path).rglob('*.flac') if file.is_file()]\n"
   ]
  }
 ],
 "metadata": {
  "kernelspec": {
   "display_name": "Python 3 (ipykernel)",
   "language": "python",
   "name": "python3"
  },
  "language_info": {
   "codemirror_mode": {
    "name": "ipython",
    "version": 3
   },
   "file_extension": ".py",
   "mimetype": "text/x-python",
   "name": "python",
   "nbconvert_exporter": "python",
   "pygments_lexer": "ipython3",
   "version": "3.13.5"
  }
 },
 "nbformat": 4,
 "nbformat_minor": 5
}
