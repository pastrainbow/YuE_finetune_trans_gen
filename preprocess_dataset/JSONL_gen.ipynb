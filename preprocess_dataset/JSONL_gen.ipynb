{
 "cells": [
  {
   "cell_type": "code",
   "execution_count": null,
   "id": "35d97954-b0f4-4e49-94e7-09b8e25bfa5d",
   "metadata": {},
   "outputs": [],
   "source": [
    "import json\n",
    "import os\n",
    "import soundfile as sf\n",
    "from pathlib import Path\n",
    "lyric_segments = \"\"\n",
    "audio_dir_path = \"\"\n",
    "codes_dir_path = \"\"\n",
    "#since bumch of audio files in FMA_large are corrupted, we cannot use the original dataset to get all the track names.\n",
    "track_names = list(set([file.stem for file in Path(audio_dir_path).rglob('*.mp3') if file.is_file()]))\n",
    "for current_id, track_name in enumerate(track_names):\n",
    "    #in the example, id starts at 1\n",
    "    current_id += 1\n",
    "    \n",
    "    #get track duration in seconds, so that we know the split time for start, middle and end\n",
    "    #The vocals and instrumental stems for the same track should have the same duration\n",
    "    vocals_audio_path = os.path.join(audio_dir_path, track_name, \".Vocals.mp3\")\n",
    "    track_info = sf.info(vocals_path)\n",
    "    track_duration = track_info.frames / track_info.samplerate\n",
    "\n",
    "    vocals_codes_path = os.path.join(codes_dir_path, track_name, \".Vocals.npy\")\n",
    "    instrumental_codes_path = os.path.join(codes_dir_path, track_name, \".Instrumental.npy\")\n",
    "    mixture_codes_path = os.path.join(codes_dir_path, track_name, \".npy\")\n",
    "\n",
    "    segment_duration = track_duration / 3\n",
    "\n",
    "    \n",
    "    \n",
    "    \n",
    "    \n",
    "    \n",
    "    \n",
    "\n",
    "\n",
    "\n"
   ]
  }
 ],
 "metadata": {
  "kernelspec": {
   "display_name": "Python 3 (ipykernel)",
   "language": "python",
   "name": "python3"
  },
  "language_info": {
   "codemirror_mode": {
    "name": "ipython",
    "version": 3
   },
   "file_extension": ".py",
   "mimetype": "text/x-python",
   "name": "python",
   "nbconvert_exporter": "python",
   "pygments_lexer": "ipython3",
   "version": "3.13.5"
  }
 },
 "nbformat": 4,
 "nbformat_minor": 5
}
