{
 "cells": [
  {
   "cell_type": "code",
   "execution_count": 1,
   "id": "f65139c3-9a3e-4385-abe8-80311d051b07",
   "metadata": {},
   "outputs": [
    {
     "name": "stdout",
     "output_type": "stream",
     "text": [
      "MP3 files split into 4 subdirectories.\n"
     ]
    }
   ],
   "source": [
    "import os\n",
    "import shutil\n",
    "from pathlib import Path\n",
    "\n",
    "source_dir = Path(\"/vol/bitbucket/al4624/finetune_dataset/fma_large/\")\n",
    "target_dirs = [source_dir / f\"split_{i+1}\" for i in range(4)]\n",
    "\n",
    "# Create target subdirectories if they don't exist\n",
    "for dir_path in target_dirs:\n",
    "    dir_path.mkdir(exist_ok=True)\n",
    "\n",
    "# Get list of all mp3 files\n",
    "mp3_files = [f for f in source_dir.iterdir() if f.is_file() and f.suffix.lower() == \".mp3\"]\n",
    "\n",
    "# Distribute files evenly across the 4 folders\n",
    "for index, mp3_file in enumerate(mp3_files):\n",
    "    target_dir = target_dirs[index % 4]\n",
    "    shutil.move(str(mp3_file), target_dir / mp3_file.name)\n",
    "\n",
    "print(\"MP3 files split into 4 subdirectories.\")\n"
   ]
  }
 ],
 "metadata": {
  "kernelspec": {
   "display_name": "Python 3 (ipykernel)",
   "language": "python",
   "name": "python3"
  },
  "language_info": {
   "codemirror_mode": {
    "name": "ipython",
    "version": 3
   },
   "file_extension": ".py",
   "mimetype": "text/x-python",
   "name": "python",
   "nbconvert_exporter": "python",
   "pygments_lexer": "ipython3",
   "version": "3.13.5"
  }
 },
 "nbformat": 4,
 "nbformat_minor": 5
}
